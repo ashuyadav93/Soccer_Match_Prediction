{
 "cells": [
  {
   "cell_type": "code",
   "execution_count": 1,
   "metadata": {
    "collapsed": true
   },
   "outputs": [],
   "source": [
    "import pandas as pd\n",
    "import numpy as np\n",
    "\n",
    "\n",
    "events = pd.read_csv('events.csv')\n",
    "ginf= pd.read_csv('ginf.csv')\n",
    "total_data = pd.merge(events, ginf, how='right', on = 'id_odsp')\n",
    "total_data = total_data[total_data['adv_stats']]\n",
    "total_data = total_data[np.isfinite(total_data['time'])]\n",
    "total_data['home_score'] =0\n",
    "total_data['away_score'] =0\n",
    "total_data['home_score'] = np.where((total_data.is_goal == 1) & (total_data['ht'] == total_data.event_team), 1, 0)\n",
    "total_data['away_score'] = np.where((total_data.is_goal == 1) & (total_data['at'] == total_data.event_team), 1, 0)\n",
    "total_data['Home_win'] = np.where((total_data.fthg > total_data.ftag),1, 0)\n",
    "total_data['Away_win'] = np.where((total_data.ftag > total_data.fthg),1, 0)\n",
    "total_data['Draw_win'] = np.where((total_data.ftag == total_data.fthg),1, 0)\n",
    "############## handling each features individually #################\n",
    "winFeatures =['id_odsp','time','home_score','away_score']\n",
    "winDf= total_data[winFeatures].drop_duplicates()\n",
    "winDf = winDf.loc[(winDf.home_score != 0) | (winDf.away_score != 0) ]\n",
    "oddsFeatures = ['id_odsp','odd_a','odd_h']\n",
    "oddsDf= total_data[oddsFeatures].drop_duplicates()\n",
    "overallwinFeatures = ['id_odsp','Home_win','Away_win']\n",
    "overall_win= total_data[overallwinFeatures].drop_duplicates()\n",
    "####################################################################\n",
    "\n",
    "#############Common time and id df#################################\n",
    "one_to_hundred = pd.Series(range(0,101,1))\n",
    "game_time_series = pd.concat([one_to_hundred]*9074, ignore_index=True)\n",
    "game_unique_ids = total_data.id_odsp.unique()\n",
    "game_unique_idseries = np.repeat(game_unique_ids, 101)\n",
    "\n",
    "####################################################################\n",
    "################      Merging Data     #############################\n",
    "Actual_dataI = pd.DataFrame({'time' : game_time_series, 'id_odsp' : game_unique_idseries})\n",
    "Actual_dataI = pd.merge(Actual_dataI, winDf, how='left', on=['time','id_odsp'] )\n",
    "Actual_dataI = Actual_dataI.fillna(0)\n",
    "Actual_dataI = pd.merge(Actual_dataI, oddsDf, how='left', on=['id_odsp'] )\n",
    "Actual_dataI = pd.merge(Actual_dataI, overall_win, how='left', on=['id_odsp'] )\n",
    "groupedItem = Actual_dataI.groupby('id_odsp')\n",
    "Actual_dataI['Home_score_cum'] = groupedItem.home_score.cumsum()\n",
    "Actual_dataI['Away_score_cum'] = groupedItem.away_score.cumsum()\n",
    "Actual_dataI['goal_diff'] =  np.where((Actual_dataI['odd_h'] < Actual_dataI['odd_a']), Actual_dataI['Home_score_cum'] - Actual_dataI['Away_score_cum'], \n",
    "                                          Actual_dataI['Away_score_cum'] - Actual_dataI['Home_score_cum'])"
   ]
  },
  {
   "cell_type": "code",
   "execution_count": 2,
   "metadata": {
    "collapsed": true
   },
   "outputs": [],
   "source": [
    "##Remove Tied teams\n",
    "GameData = Actual_dataI.loc[(Actual_dataI['Home_win'] != Actual_dataI['Away_win'])]\n",
    "#tied team data \n",
    "TiedData = Actual_dataI.loc[(Actual_dataI['Home_win'] == Actual_dataI['Away_win'])]"
   ]
  },
  {
   "cell_type": "code",
   "execution_count": 8,
   "metadata": {
    "collapsed": true
   },
   "outputs": [],
   "source": [
    "import math\n",
    "from sklearn import preprocessing\n",
    "\n",
    "def checkInterval(goaldiff, time):\n",
    "    ret = 0\n",
    "    if time >= 0 and time <=25:\n",
    "        ret=  1.008\n",
    "    elif time > 25 and time <=45:\n",
    "        ret= 1.0008\n",
    "    elif time > 45 and time <=75:\n",
    "        ret= 1.0003\n",
    "    elif time > 75 and time <=85:\n",
    "        ret= 1.0004\n",
    "    elif time > 85 and time <=90:\n",
    "        ret= 1.0008\n",
    "    elif time > 90 and time <=95:\n",
    "        ret= 1.0008\n",
    "    elif time >95 and time <= 100:\n",
    "        ret= 1.0009\n",
    "    if goaldiff >= 0:\n",
    "        return 1/ret\n",
    "    elif goaldiff < 0:\n",
    "        return ret\n",
    "    \n",
    "previous_goal_diff = 0\n",
    "previous_prob = 0\n",
    "favourable_A = 0\n",
    "favourable_B = 0\n",
    "ExpA =0\n",
    "ExpB =0\n",
    "\n",
    "def findK(r,p,v):\n",
    "    ret =0\n",
    "    if r <= 1:\n",
    "        ret = 1\n",
    "    elif r ==2:\n",
    "        ret = 2\n",
    "    elif r >=3:\n",
    "        ret = (r + 11)/8\n",
    "    if ((v ==1) & (p < 0)) | ((v ==2) & (p > 0)) :\n",
    "        ret = ret * -1\n",
    "    return 60 * ret\n",
    "\n",
    "def CurrentResult(r, v):\n",
    "    return 2\n",
    "        \n",
    "def findExpected(x, y):\n",
    "    return 1/(1 + 10**(((-1 * (100+ x - y))/400)))\n",
    "\n",
    "def findProbability(r):\n",
    "    global favourable_A \n",
    "    global favourable_B\n",
    "    global previous_goal_diff \n",
    "    global ExpA\n",
    "    global ExpB\n",
    "    if(r['time'] == 0):\n",
    "        previous_goal_diff =0\n",
    "        if r['odd_h'] < r['odd_a']:\n",
    "            favourable_A = 1/r['odd_h']\n",
    "            favourable_B = 1/r['odd_a'] \n",
    "        else :\n",
    "            favourable_A = 1/r['odd_a']\n",
    "            favourable_B = 1/r['odd_h']\n",
    "        favourable_A = 400 + (favourable_A * 100)\n",
    "        favourable_B = 400 + (favourable_B * 100)\n",
    "        ExpA = findExpected(favourable_A, favourable_B)\n",
    "        ExpB = (1 - ExpA)\n",
    "    else:\n",
    "        if ((r['home_score'] == 1) or (r['away_score'] == 1)):\n",
    "            favourable_A = favourable_A + (findK(r['goal_diff'],r['goal_diff']- previous_goal_diff ,1)*(CurrentResult(r['goal_diff'], 1) - ExpA))\n",
    "            favourable_B = favourable_B + (findK(r['goal_diff'],r['goal_diff']- previous_goal_diff,2)*(CurrentResult(r['goal_diff'],2) - ExpB))\n",
    "            ExpA = findExpected(favourable_A, favourable_B)\n",
    "        ExpA = (ExpA)**(checkInterval(r['goal_diff'],r['time']))\n",
    "        ExpB = (1 - ExpA)    \n",
    "    previous_goal_diff = r['goal_diff']   \n",
    "    return ExpA   "
   ]
  },
  {
   "cell_type": "code",
   "execution_count": 9,
   "metadata": {
    "collapsed": true
   },
   "outputs": [],
   "source": [
    "GameData_copy =GameData.copy()\n",
    "GameData_copy['prob'] = GameData_copy.apply(lambda row : findProbability(row), axis=1)"
   ]
  },
  {
   "cell_type": "code",
   "execution_count": 16,
   "metadata": {
    "collapsed": true
   },
   "outputs": [],
   "source": [
    "## Evaluation \n",
    "prob_count= [ 0 for i in range(0,11)]\n",
    "total_count= [ 0 for i in range(0,11)]\n",
    "percentage= [ 0 for i in range(0,11)]\n",
    "counter = 0.0\n",
    "for i in range(0,11):\n",
    "    p1 = GameData_copy.loc[(round (GameData_copy['prob'],1) == round(counter,1)) & \n",
    "                                      (GameData_copy['odd_h'] < GameData_copy['odd_a']) & \n",
    "                                      (GameData_copy['Home_win'] == 1)].shape[0]\n",
    "    p2 = GameData_copy.loc[(round (GameData_copy['prob'],1) == round(counter,1)) & \n",
    "                                      (GameData_copy['odd_a'] < GameData_copy['odd_h']) & \n",
    "                                      (GameData_copy['Away_win'] == 1)].shape[0]\n",
    "    total_count[i] = GameData_copy.loc[(round (GameData_copy['prob'],1) == round(counter,1))].shape[0]\n",
    "    prob_count[i] = p1+p2\n",
    "    counter = round(counter,1)+0.1\n",
    "for i in range(0,11):\n",
    "    if total_count[i] == 0:\n",
    "        total_count[i] = 1    \n",
    "    percentage[i] = (prob_count[i]/total_count[i]) * 100"
   ]
  },
  {
   "cell_type": "code",
   "execution_count": 17,
   "metadata": {},
   "outputs": [
    {
     "data": {
      "image/png": "[encoded data removed]",
      "text/plain": [
       "<matplotlib.figure.Figure at 0x1206099b0>"
      ]
     },
     "metadata": {},
     "output_type": "display_data"
    }
   ],
   "source": [
    "##Plot graph###\n",
    "import matplotlib.pyplot as plt\n",
    "p = [i*0.1 for i in range(0,11)]\n",
    "ev_df = pd.DataFrame(\n",
    "    {'percentage': percentage,\n",
    "    'probability': p\n",
    "    })\n",
    "ev_df.plot(x= 'probability', y= 'percentage',style='-o')\n",
    "plt.show()"
   ]
  },
  {
   "cell_type": "code",
   "execution_count": 18,
   "metadata": {},
   "outputs": [
    {
     "data": {
      "image/png": "[encoded data removed]",
      "text/plain": [
       "<matplotlib.figure.Figure at 0x10c4a8e10>"
      ]
     },
     "metadata": {},
     "output_type": "display_data"
    }
   ],
   "source": [
    "import matplotlib.pyplot as plt\n",
    "GameData_copy.iloc[0:101,:].plot(x= 'time', y= 'prob',style='-o')\n",
    "plt.show()"
   ]
  },
  {
   "cell_type": "code",
   "execution_count": 21,
   "metadata": {},
   "outputs": [
    {
     "data": {
      "image/png": "[encoded data removed]",
      "text/plain": [
       "<matplotlib.figure.Figure at 0x10c5180b8>"
      ]
     },
     "metadata": {},
     "output_type": "display_data"
    }
   ],
   "source": [
    "GameData_copy.iloc[808:909,:].plot(x= 'time', y= 'prob',style='-o')\n",
    "plt.show()"
   ]
  },
  {
   "cell_type": "code",
   "execution_count": null,
   "metadata": {
    "collapsed": true
   },
   "outputs": [],
   "source": []
  }
 ],
 "metadata": {
  "kernelspec": {
   "display_name": "Python 3",
   "language": "python",
   "name": "python3"
  },
  "language_info": {
   "codemirror_mode": {
    "name": "ipython",
    "version": 3
   },
   "file_extension": ".py",
   "mimetype": "text/x-python",
   "name": "python",
   "nbconvert_exporter": "python",
   "pygments_lexer": "ipython3",
   "version": "3.6.1"
  }
 },
 "nbformat": 4,
 "nbformat_minor": 2
}
